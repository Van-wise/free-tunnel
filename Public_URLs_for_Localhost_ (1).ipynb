{
  "nbformat": 4,
  "nbformat_minor": 0,
  "metadata": {
    "colab": {
      "provenance": [],
      "collapsed_sections": [
        "80-yC_kP1PTJ",
        "sJHYSOrU1a7q",
        "afpBVlsLsz1x",
        "Dy6BqPjyZFZm",
        "a8rWi8aFZtVQ",
        "JgWqQGkzVU70",
        "Oz9IS6Zca9Zu",
        "U9eWOJSuX5Vc",
        "PPLZ2EXcrFdk",
        "uaTVcFmMdBUK",
        "wTgjUHHbi6lS",
        "kv89YzZ2pHTu",
        "7yjCJ5rThvSU"
      ]
    },
    "kernelspec": {
      "name": "python3",
      "display_name": "Python 3"
    },
    "language_info": {
      "name": "python"
    }
  },
  "cells": [
    {
      "cell_type": "markdown",
      "source": [
        "#简单内网穿透方法\n",
        "公开本地Web站点至公网。(Public URLs for Localhost.)\n",
        "\n",
        "Tunnelling services for exposing localhost to the web.\n",
        "\n",
        "https://github.com/anderspitman/awesome-tunneling\n"
      ],
      "metadata": {
        "id": "nNpOGiWXkX70"
      }
    },
    {
      "cell_type": "markdown",
      "source": [
        "###test"
      ],
      "metadata": {
        "id": "80-yC_kP1PTJ"
      }
    },
    {
      "cell_type": "code",
      "execution_count": null,
      "metadata": {
        "id": "WlsZmxm3kTPc"
      },
      "outputs": [],
      "source": [
        "#测试：\n",
        "!curl -fsSL \"https://alist.nn.ci/v2.sh\" | bash -s install\n",
        "#启动\n",
        "%cd /opt/alist\n",
        "!./alist admin random\n",
        "#!./alist start\n",
        "#!./alist stop"
      ]
    },
    {
      "cell_type": "code",
      "source": [
        "import threading\n",
        "def alist_start():\n",
        "    %cd /opt/alist\n",
        "    print(\"启动alist...\")\n",
        "    !./alist start\n",
        "\n",
        "background_thread = threading.Thread(target=alist_start)\n",
        "background_thread.daemon = True\n",
        "background_thread.start()\n",
        "#下面放执行命令\n"
      ],
      "metadata": {
        "id": "Tx1KhmSA5rqT"
      },
      "execution_count": null,
      "outputs": []
    },
    {
      "cell_type": "code",
      "source": [
        "!pip install pycloudflared\n",
        "from pycloudflared import try_cloudflare\n",
        "%cd /opt/alist\n",
        "tunnel_url = try_cloudflare(5244, verbose=False)\n",
        "print(tunnel_url)\n",
        "print(\"启动alist...\")\n",
        "!./alist start"
      ],
      "metadata": {
        "id": "BlH-jS5AlsiA"
      },
      "execution_count": null,
      "outputs": []
    },
    {
      "cell_type": "code",
      "source": [
        "!curl ipv4.icanhazip.com"
      ],
      "metadata": {
        "id": "zudVF0FicbQ9"
      },
      "execution_count": null,
      "outputs": []
    },
    {
      "cell_type": "markdown",
      "source": [
        "### [ngrok](https://ngrok.com/)"
      ],
      "metadata": {
        "id": "sJHYSOrU1a7q"
      }
    },
    {
      "cell_type": "code",
      "source": [
        "# https://dashboard.ngrok.com/get-started/your-authtoken\n",
        "!pip install pyngrok  #安装库\n",
        "\n",
        "from pyngrok import ngrok #导入库\n",
        "ngrok.set_auth_token(\"2RW6PheufAfZtkarOYfljRCNcUP_2ww9yEkn31qsCK9jKM5Du\") #token\n",
        "\n",
        "# public_url = ngrok.connect(5244, \"http\")  #获取临时url\n",
        "\n",
        "# print(public_url)\n",
        "\n",
        "#!ngrok http --domain=exotic-satyr-mentally.ngrok-free.app 5244 #指定域名\n",
        "#ngrok.disconnect(public_url)"
      ],
      "metadata": {
        "id": "GH5-Qgak1pmh"
      },
      "execution_count": null,
      "outputs": []
    },
    {
      "cell_type": "code",
      "source": [
        "!curl -s https://ngrok-agent.s3.amazonaws.com/ngrok.asc | sudo tee /etc/apt/trusted.gpg.d/ngrok.asc >/dev/null && echo \"deb https://ngrok-agent.s3.amazonaws.com buster main\" | sudo tee /etc/apt/sources.list.d/ngrok.list && sudo apt update && sudo apt install ngrok\n",
        "!ngrok config add-authtoken 2RW6PheufAfZtkarOYfljRCNcUP_2ww9yEkn31qsCK9jKM5Du #token\n",
        "#!ngrok http 5244  #获取临时url，在仪表盘查看\n",
        "#!ngrok http --domain=exotic-satyr-mentally.ngrok-free.app 5244"
      ],
      "metadata": {
        "id": "dEjwy46923TZ"
      },
      "execution_count": null,
      "outputs": []
    },
    {
      "cell_type": "markdown",
      "source": [
        "###[cpolar](https://www.cpolar.com/)"
      ],
      "metadata": {
        "id": "afpBVlsLsz1x"
      }
    },
    {
      "cell_type": "code",
      "source": [
        "# https://dashboard.cpolar.com/auth\n",
        "!curl -L https://www.cpolar.com/static/downloads/install-release-cpolar.sh | sudo bash  #一键安装\n",
        "!cpolar version #查看版本\n",
        "!cpolar authtoken YWMyOWU1NTgtZjYwMi00OWViLWEyMWQtOTM2OWNmODY1OGE3  #token\n",
        "# !cpolar http 5244 #启动隧道"
      ],
      "metadata": {
        "id": "um9kH3Y2s6YK"
      },
      "execution_count": null,
      "outputs": []
    },
    {
      "cell_type": "markdown",
      "source": [
        "### [tunnelmole](https://tunnelmole.com/)"
      ],
      "metadata": {
        "id": "Dy6BqPjyZFZm"
      }
    },
    {
      "cell_type": "code",
      "source": [
        "# https://github.com/robbie-cahill/tunnelmole-client\n",
        "# https://tunnelmole.com/\n",
        "\n",
        "!curl -s https://tunnelmole.com/sh/install-linux.sh | sudo bash\n",
        "# !tmole 5244"
      ],
      "metadata": {
        "id": "ZNWynOjDZbiO"
      },
      "execution_count": null,
      "outputs": []
    },
    {
      "cell_type": "markdown",
      "source": [
        "### [tunwg](https://github.com/ntnj/tunwg)"
      ],
      "metadata": {
        "id": "a8rWi8aFZtVQ"
      }
    },
    {
      "cell_type": "code",
      "source": [
        "# https://github.com/ntnj/tunwg\n",
        "%cd /content\n",
        "!wget https://github.com/ntnj/tunwg/releases/download/v23.07.15%2B3213668/tunwg\n",
        "!chmod +x ./tunwg\n",
        "\n",
        "# !./tunwg -p 5244"
      ],
      "metadata": {
        "id": "NN-XX0KdZ4XH"
      },
      "execution_count": null,
      "outputs": []
    },
    {
      "cell_type": "markdown",
      "source": [
        "### [webhookrelay](https://my.webhookrelay.com/)"
      ],
      "metadata": {
        "id": "JgWqQGkzVU70"
      }
    },
    {
      "cell_type": "code",
      "source": [
        "# https://my.webhookrelay.com/tunnels\n",
        "!curl https://my.webhookrelay.com/webhookrelay/downloads/install-cli.sh | bash  #下载程序\n",
        "# %cd /usr/local/bin/relay\n",
        "# !relay login -k 343eb1ab-5588-4274-93ef-98cb745b12a7 -s FX5rMUdg2BA1  #token ，在 Web server 生成。\n",
        "# !relay connect --name my-tunnel :5244 #启动隧道"
      ],
      "metadata": {
        "id": "0f6bHCyEVkuE"
      },
      "execution_count": null,
      "outputs": []
    },
    {
      "cell_type": "markdown",
      "source": [
        "### [pinggy](https://pinggy.io/)"
      ],
      "metadata": {
        "id": "Oz9IS6Zca9Zu"
      }
    },
    {
      "cell_type": "code",
      "source": [
        "# https://pinggy.io/\n",
        "# https://dashboard.pinggy.io/\n",
        "!ssh -p 443 -R0:localhost:5244  -o StrictHostKeyChecking=no -o ServerAliveInterval=30 diZL7upmTh8@a.pinggy.io\n",
        "\n",
        "#url 在仪表盘查看."
      ],
      "metadata": {
        "id": "eltIJMdkbFCN"
      },
      "execution_count": null,
      "outputs": []
    },
    {
      "cell_type": "markdown",
      "source": [
        "### [loophole](https://loophole.cloud/)\n"
      ],
      "metadata": {
        "id": "U9eWOJSuX5Vc"
      }
    },
    {
      "cell_type": "code",
      "source": [
        "# https://loophole.cloud/\n",
        "%cd /content\n",
        "!wget https://github.com/loophole/cli/releases/download/1.0.0-beta.15/loophole-cli_1.0.0-beta.15_linux_64bit.tar.gz\n",
        "!tar -xvf loophole-cli_1.0.0-beta.15_linux_64bit.tar.gz\n",
        "%cd /content/loophole-cli_1.0.0-beta.15_linux_64bit\n",
        "!./loophole account login\n",
        "# #Please open https://loophole.eu.auth0.com/activate and use PCGD-KZJF code to log in1:51PM INF Logged in successfully\n",
        "# !./loophole http 5244"
      ],
      "metadata": {
        "id": "59kYkwWCX_GP"
      },
      "execution_count": null,
      "outputs": []
    },
    {
      "cell_type": "markdown",
      "source": [
        "### [localtonet](https://localtonet.com/)"
      ],
      "metadata": {
        "id": "PPLZ2EXcrFdk"
      }
    },
    {
      "cell_type": "code",
      "source": [
        "# https://localtonet.com/tunnel\n",
        "%cd /content\n",
        "!wget https://localtonet.com/download/localtonet-linux-x64.zip\n",
        "!unzip localtonet-linux-x64.zip\n",
        "!chmod 777 ./localtonet\n",
        "# !./localtonet authtoken 2bOPCeUtF5am8grwDn3MkfGYj4yoElRXK\n",
        "# 后台创建，打开url"
      ],
      "metadata": {
        "id": "9UZTkYo1tKhW"
      },
      "execution_count": null,
      "outputs": []
    },
    {
      "cell_type": "markdown",
      "source": [
        "### [serveo](https://serveo.net/)"
      ],
      "metadata": {
        "id": "uaTVcFmMdBUK"
      }
    },
    {
      "cell_type": "code",
      "source": [
        "#https://serveo.net/\n",
        "!ssh -R 80:localhost:5244 -o StrictHostKeyChecking=no serveo.net"
      ],
      "metadata": {
        "id": "ud5kIzRGdKEd"
      },
      "execution_count": null,
      "outputs": []
    },
    {
      "cell_type": "markdown",
      "source": [
        "### [localhost](https://localhost.run)  [remote](https://remote.moe)"
      ],
      "metadata": {
        "id": "wTgjUHHbi6lS"
      }
    },
    {
      "cell_type": "code",
      "source": [
        "!ssh-keygen -t rsa -b 4096 -N \"\" -f /content/id_rsa"
      ],
      "metadata": {
        "id": "ZrPdSoYGjYsL"
      },
      "execution_count": null,
      "outputs": []
    },
    {
      "cell_type": "code",
      "source": [
        "!ssh -R 80:localhost:5244 -o StrictHostKeyChecking=no localhost.run -i /content/id_rsa"
      ],
      "metadata": {
        "id": "vuxtVd0njZvk"
      },
      "execution_count": null,
      "outputs": []
    },
    {
      "cell_type": "code",
      "source": [
        "!ssh -R 80:localhost:5244 -o StrictHostKeyChecking=no remote.moe -i /content/id_rsa"
      ],
      "metadata": {
        "id": "wkAcC74fjZmG"
      },
      "execution_count": null,
      "outputs": []
    },
    {
      "cell_type": "markdown",
      "source": [
        "### [localtunnel](https://theboroer.github.io/localtunnel-www/)"
      ],
      "metadata": {
        "id": "kv89YzZ2pHTu"
      }
    },
    {
      "cell_type": "code",
      "source": [
        "#https://theboroer.github.io/localtunnel-www/\n",
        "!npx localtunnel --port 5244\n",
        "#!npx localtunnel --port 8501 &>/content/link.txt &"
      ],
      "metadata": {
        "id": "DKc7sFyspOqz"
      },
      "execution_count": null,
      "outputs": []
    },
    {
      "cell_type": "markdown",
      "source": [
        "### [cloudflare](https://developers.cloudflare.com/cloudflare-one/connections/connect-networks/get-started/create-local-tunnel/)\n"
      ],
      "metadata": {
        "id": "7yjCJ5rThvSU"
      }
    },
    {
      "cell_type": "code",
      "source": [
        "!pip install pycloudflared\n",
        "from pycloudflared import try_cloudflare\n",
        "\n",
        "# tunnel_url = try_cloudflare(5244, verbose=False)\n",
        "\n",
        "# print(tunnel_url)\n"
      ],
      "metadata": {
        "id": "Wx_Iu9Whh7pX"
      },
      "execution_count": null,
      "outputs": []
    }
  ]
}